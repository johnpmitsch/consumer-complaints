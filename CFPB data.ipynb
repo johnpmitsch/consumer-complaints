{
 "metadata": {
  "name": "",
  "signature": "sha256:608550bf017e19f62ff1d4fde538a4fdb6e8955cdfebe17b74022cc52d85669a"
 },
 "nbformat": 3,
 "nbformat_minor": 0,
 "worksheets": [
  {
   "cells": [
    {
     "cell_type": "heading",
     "level": 1,
     "metadata": {},
     "source": [
      "Consumer Financial Protection Bureau Customer Complaint Data Analysis"
     ]
    },
    {
     "cell_type": "code",
     "collapsed": false,
     "input": [
      "import pandas as pd\n",
      "import numpy as np\n",
      "import matplotlib.pyplot as plt\n",
      "import seaborn as sns"
     ],
     "language": "python",
     "metadata": {},
     "outputs": [],
     "prompt_number": 82
    },
    {
     "cell_type": "code",
     "collapsed": false,
     "input": [
      "%matplotlib inline"
     ],
     "language": "python",
     "metadata": {},
     "outputs": [],
     "prompt_number": 83
    },
    {
     "cell_type": "code",
     "collapsed": false,
     "input": [
      "cfpb_data = pd.read_csv(\"complaints_dec_2014.csv\")"
     ],
     "language": "python",
     "metadata": {},
     "outputs": [],
     "prompt_number": 84
    },
    {
     "cell_type": "code",
     "collapsed": false,
     "input": [
      "cfpb_data.index = pd.to_datetime(cfpb_data.pop(\"Date received\"), format=\"%m/%d/%Y\")"
     ],
     "language": "python",
     "metadata": {},
     "outputs": [],
     "prompt_number": 85
    },
    {
     "cell_type": "code",
     "collapsed": false,
     "input": [
      "cfpb_data.head()"
     ],
     "language": "python",
     "metadata": {},
     "outputs": [
      {
       "html": [
        "<div style=\"max-height:1000px;max-width:1500px;overflow:auto;\">\n",
        "<table border=\"1\" class=\"dataframe\">\n",
        "  <thead>\n",
        "    <tr style=\"text-align: right;\">\n",
        "      <th></th>\n",
        "      <th>Complaint ID</th>\n",
        "      <th>Product</th>\n",
        "      <th>Sub-product</th>\n",
        "      <th>Issue</th>\n",
        "      <th>Sub-issue</th>\n",
        "      <th>State</th>\n",
        "      <th>ZIP code</th>\n",
        "      <th>Submitted via</th>\n",
        "      <th>Date sent to company</th>\n",
        "      <th>Company</th>\n",
        "      <th>Company response</th>\n",
        "      <th>Timely response?</th>\n",
        "      <th>Consumer disputed?</th>\n",
        "    </tr>\n",
        "    <tr>\n",
        "      <th>Date received</th>\n",
        "      <th></th>\n",
        "      <th></th>\n",
        "      <th></th>\n",
        "      <th></th>\n",
        "      <th></th>\n",
        "      <th></th>\n",
        "      <th></th>\n",
        "      <th></th>\n",
        "      <th></th>\n",
        "      <th></th>\n",
        "      <th></th>\n",
        "      <th></th>\n",
        "      <th></th>\n",
        "    </tr>\n",
        "  </thead>\n",
        "  <tbody>\n",
        "    <tr>\n",
        "      <th>2014-12-31</th>\n",
        "      <td> 1177167</td>\n",
        "      <td> Debt collection</td>\n",
        "      <td> NaN</td>\n",
        "      <td> Cont'd attempts collect debt not owed</td>\n",
        "      <td> Debt is not mine</td>\n",
        "      <td> TX</td>\n",
        "      <td> 77068</td>\n",
        "      <td> Web</td>\n",
        "      <td> 12/31/2014</td>\n",
        "      <td>  Ad Astra Recovery Services Inc</td>\n",
        "      <td>         Closed with explanation</td>\n",
        "      <td> Yes</td>\n",
        "      <td> NaN</td>\n",
        "    </tr>\n",
        "    <tr>\n",
        "      <th>2014-12-31</th>\n",
        "      <td> 1177166</td>\n",
        "      <td> Debt collection</td>\n",
        "      <td> NaN</td>\n",
        "      <td> Cont'd attempts collect debt not owed</td>\n",
        "      <td> Debt is not mine</td>\n",
        "      <td> TX</td>\n",
        "      <td> 77068</td>\n",
        "      <td> Web</td>\n",
        "      <td> 12/31/2014</td>\n",
        "      <td> Unique Management Services, Inc</td>\n",
        "      <td>         Closed with explanation</td>\n",
        "      <td> Yes</td>\n",
        "      <td> NaN</td>\n",
        "    </tr>\n",
        "    <tr>\n",
        "      <th>2014-12-31</th>\n",
        "      <td> 1177165</td>\n",
        "      <td> Debt collection</td>\n",
        "      <td> NaN</td>\n",
        "      <td> Cont'd attempts collect debt not owed</td>\n",
        "      <td> Debt is not mine</td>\n",
        "      <td> TX</td>\n",
        "      <td> 77068</td>\n",
        "      <td> Web</td>\n",
        "      <td> 12/31/2014</td>\n",
        "      <td>                CL Holdings, LLC</td>\n",
        "      <td>     Closed with monetary relief</td>\n",
        "      <td> Yes</td>\n",
        "      <td> NaN</td>\n",
        "    </tr>\n",
        "    <tr>\n",
        "      <th>2014-12-31</th>\n",
        "      <td> 1177164</td>\n",
        "      <td> Debt collection</td>\n",
        "      <td> NaN</td>\n",
        "      <td> Cont'd attempts collect debt not owed</td>\n",
        "      <td> Debt is not mine</td>\n",
        "      <td> TX</td>\n",
        "      <td> 77068</td>\n",
        "      <td> Web</td>\n",
        "      <td> 12/31/2014</td>\n",
        "      <td>  Enhanced Recovery Company, LLC</td>\n",
        "      <td> Closed with non-monetary relief</td>\n",
        "      <td> Yes</td>\n",
        "      <td> NaN</td>\n",
        "    </tr>\n",
        "    <tr>\n",
        "      <th>2014-12-31</th>\n",
        "      <td> 1177163</td>\n",
        "      <td> Debt collection</td>\n",
        "      <td> NaN</td>\n",
        "      <td> Cont'd attempts collect debt not owed</td>\n",
        "      <td> Debt is not mine</td>\n",
        "      <td> TX</td>\n",
        "      <td> 77068</td>\n",
        "      <td> Web</td>\n",
        "      <td> 12/31/2014</td>\n",
        "      <td>      Enhanced Acquisitions, LLC</td>\n",
        "      <td>         Closed with explanation</td>\n",
        "      <td> Yes</td>\n",
        "      <td> NaN</td>\n",
        "    </tr>\n",
        "  </tbody>\n",
        "</table>\n",
        "</div>"
       ],
       "metadata": {},
       "output_type": "pyout",
       "prompt_number": 86,
       "text": [
        "               Complaint ID          Product Sub-product  \\\n",
        "Date received                                              \n",
        "2014-12-31          1177167  Debt collection         NaN   \n",
        "2014-12-31          1177166  Debt collection         NaN   \n",
        "2014-12-31          1177165  Debt collection         NaN   \n",
        "2014-12-31          1177164  Debt collection         NaN   \n",
        "2014-12-31          1177163  Debt collection         NaN   \n",
        "\n",
        "                                               Issue         Sub-issue State  \\\n",
        "Date received                                                                  \n",
        "2014-12-31     Cont'd attempts collect debt not owed  Debt is not mine    TX   \n",
        "2014-12-31     Cont'd attempts collect debt not owed  Debt is not mine    TX   \n",
        "2014-12-31     Cont'd attempts collect debt not owed  Debt is not mine    TX   \n",
        "2014-12-31     Cont'd attempts collect debt not owed  Debt is not mine    TX   \n",
        "2014-12-31     Cont'd attempts collect debt not owed  Debt is not mine    TX   \n",
        "\n",
        "               ZIP code Submitted via Date sent to company  \\\n",
        "Date received                                                \n",
        "2014-12-31        77068           Web           12/31/2014   \n",
        "2014-12-31        77068           Web           12/31/2014   \n",
        "2014-12-31        77068           Web           12/31/2014   \n",
        "2014-12-31        77068           Web           12/31/2014   \n",
        "2014-12-31        77068           Web           12/31/2014   \n",
        "\n",
        "                                       Company  \\\n",
        "Date received                                    \n",
        "2014-12-31      Ad Astra Recovery Services Inc   \n",
        "2014-12-31     Unique Management Services, Inc   \n",
        "2014-12-31                    CL Holdings, LLC   \n",
        "2014-12-31      Enhanced Recovery Company, LLC   \n",
        "2014-12-31          Enhanced Acquisitions, LLC   \n",
        "\n",
        "                              Company response Timely response?  \\\n",
        "Date received                                                     \n",
        "2014-12-31             Closed with explanation              Yes   \n",
        "2014-12-31             Closed with explanation              Yes   \n",
        "2014-12-31         Closed with monetary relief              Yes   \n",
        "2014-12-31     Closed with non-monetary relief              Yes   \n",
        "2014-12-31             Closed with explanation              Yes   \n",
        "\n",
        "              Consumer disputed?  \n",
        "Date received                     \n",
        "2014-12-31                   NaN  \n",
        "2014-12-31                   NaN  \n",
        "2014-12-31                   NaN  \n",
        "2014-12-31                   NaN  \n",
        "2014-12-31                   NaN  "
       ]
      }
     ],
     "prompt_number": 86
    },
    {
     "cell_type": "code",
     "collapsed": false,
     "input": [
      "cfpb_data.describe()"
     ],
     "language": "python",
     "metadata": {},
     "outputs": [
      {
       "html": [
        "<div style=\"max-height:1000px;max-width:1500px;overflow:auto;\">\n",
        "<table border=\"1\" class=\"dataframe\">\n",
        "  <thead>\n",
        "    <tr style=\"text-align: right;\">\n",
        "      <th></th>\n",
        "      <th>Complaint ID</th>\n",
        "      <th>ZIP code</th>\n",
        "    </tr>\n",
        "  </thead>\n",
        "  <tbody>\n",
        "    <tr>\n",
        "      <th>count</th>\n",
        "      <td>   11543.000000</td>\n",
        "      <td> 11409.000000</td>\n",
        "    </tr>\n",
        "    <tr>\n",
        "      <th>mean</th>\n",
        "      <td> 1157276.786451</td>\n",
        "      <td> 50259.375756</td>\n",
        "    </tr>\n",
        "    <tr>\n",
        "      <th>std</th>\n",
        "      <td>   11908.384438</td>\n",
        "      <td> 30712.384693</td>\n",
        "    </tr>\n",
        "    <tr>\n",
        "      <th>min</th>\n",
        "      <td> 1136157.000000</td>\n",
        "      <td>    10.000000</td>\n",
        "    </tr>\n",
        "    <tr>\n",
        "      <th>25%</th>\n",
        "      <td> 1146708.500000</td>\n",
        "      <td> 23234.000000</td>\n",
        "    </tr>\n",
        "    <tr>\n",
        "      <th>50%</th>\n",
        "      <td> 1156954.000000</td>\n",
        "      <td> 44203.000000</td>\n",
        "    </tr>\n",
        "    <tr>\n",
        "      <th>75%</th>\n",
        "      <td> 1167656.000000</td>\n",
        "      <td> 78623.000000</td>\n",
        "    </tr>\n",
        "    <tr>\n",
        "      <th>max</th>\n",
        "      <td> 1178091.000000</td>\n",
        "      <td> 99712.000000</td>\n",
        "    </tr>\n",
        "  </tbody>\n",
        "</table>\n",
        "</div>"
       ],
       "metadata": {},
       "output_type": "pyout",
       "prompt_number": 87,
       "text": [
        "         Complaint ID      ZIP code\n",
        "count    11543.000000  11409.000000\n",
        "mean   1157276.786451  50259.375756\n",
        "std      11908.384438  30712.384693\n",
        "min    1136157.000000     10.000000\n",
        "25%    1146708.500000  23234.000000\n",
        "50%    1156954.000000  44203.000000\n",
        "75%    1167656.000000  78623.000000\n",
        "max    1178091.000000  99712.000000"
       ]
      }
     ],
     "prompt_number": 87
    },
    {
     "cell_type": "heading",
     "level": 1,
     "metadata": {},
     "source": [
      "Number of complaints by product"
     ]
    },
    {
     "cell_type": "code",
     "collapsed": false,
     "input": [
      "cfpb_data.groupby(\"Product\").size().nlargest(12)"
     ],
     "language": "python",
     "metadata": {},
     "outputs": [
      {
       "metadata": {},
       "output_type": "pyout",
       "prompt_number": 88,
       "text": [
        "Product\n",
        "Mortgage                   3002\n",
        "Debt collection            2942\n",
        "Credit reporting           2113\n",
        "Bank account or service    1136\n",
        "Credit card                1100\n",
        "Consumer loan               578\n",
        "Student loan                340\n",
        "Payday loan                 141\n",
        "Money transfers             107\n",
        "Prepaid card                 70\n",
        "Other financial service      14\n",
        "dtype: int64"
       ]
      }
     ],
     "prompt_number": 88
    },
    {
     "cell_type": "code",
     "collapsed": false,
     "input": [
      "cfpb_data.groupby(\"Product\").size().nlargest(12).plot(kind=\"bar\", figsize=(12,8))\n",
      "plt.show()"
     ],
     "language": "python",
     "metadata": {},
     "outputs": [
      {
       "metadata": {},
       "output_type": "display_data",
       "png": "[encoded data removed]",
       "text": [
        "<matplotlib.figure.Figure at 0x10a5b94a8>"
       ]
      }
     ],
     "prompt_number": 89
    },
    {
     "cell_type": "markdown",
     "metadata": {},
     "source": [
      "Morgage, debt collection, and credit reporting are the most complained about topics"
     ]
    },
    {
     "cell_type": "heading",
     "level": 1,
     "metadata": {},
     "source": [
      "Top 10 complianed-about companies by number of complaints"
     ]
    },
    {
     "cell_type": "code",
     "collapsed": false,
     "input": [
      "cfpb_data.groupby(\"Company\").size().nlargest(10)"
     ],
     "language": "python",
     "metadata": {},
     "outputs": [
      {
       "metadata": {},
       "output_type": "pyout",
       "prompt_number": 90,
       "text": [
        "Company\n",
        "Bank of America        766\n",
        "Equifax                737\n",
        "Experian               675\n",
        "TransUnion             604\n",
        "Wells Fargo            598\n",
        "JPMorgan Chase         545\n",
        "Ocwen                  408\n",
        "Citibank               403\n",
        "Nationstar Mortgage    357\n",
        "Capital One            252\n",
        "dtype: int64"
       ]
      }
     ],
     "prompt_number": 90
    },
    {
     "cell_type": "code",
     "collapsed": false,
     "input": [
      "cfpb_data.groupby(\"Company\").size().nlargest(10).plot(kind=\"bar\", figsize=(12,8))\n",
      "plt.show()"
     ],
     "language": "python",
     "metadata": {},
     "outputs": [
      {
       "metadata": {},
       "output_type": "display_data",
       "png": "[encoded data removed]",
       "text": [
        "<matplotlib.figure.Figure at 0x10a364278>"
       ]
      }
     ],
     "prompt_number": 91
    },
    {
     "cell_type": "heading",
     "level": 1,
     "metadata": {},
     "source": [
      "Number of complaints by company response"
     ]
    },
    {
     "cell_type": "code",
     "collapsed": false,
     "input": [
      "cfpb_data.groupby(\"Company response\").size().nlargest(10)"
     ],
     "language": "python",
     "metadata": {},
     "outputs": [
      {
       "metadata": {},
       "output_type": "pyout",
       "prompt_number": 92,
       "text": [
        "Company response\n",
        "Closed with explanation            8185\n",
        "Closed with non-monetary relief    1253\n",
        "In progress                        1056\n",
        "Closed with monetary relief         643\n",
        "Closed                              239\n",
        "Untimely response                   167\n",
        "dtype: int64"
       ]
      }
     ],
     "prompt_number": 92
    },
    {
     "cell_type": "code",
     "collapsed": false,
     "input": [
      "cfpb_data.groupby(\"Company response\").size().nlargest(10).plot(kind=\"bar\", figsize=(12,8))\n",
      "plt.show()"
     ],
     "language": "python",
     "metadata": {},
     "outputs": [
      {
       "metadata": {},
       "output_type": "display_data",
       "png": "[encoded data removed]",
       "text": [
        "<matplotlib.figure.Figure at 0x109b1a9b0>"
       ]
      }
     ],
     "prompt_number": 93
    },
    {
     "cell_type": "markdown",
     "metadata": {},
     "source": [
      "The overwhelming majority of complaints are closed with explanation"
     ]
    },
    {
     "cell_type": "heading",
     "level": 1,
     "metadata": {},
     "source": [
      "Complaints by day of the week"
     ]
    },
    {
     "cell_type": "code",
     "collapsed": false,
     "input": [
      "def mean_complaints_per_weekday(data):\n",
      "    pass"
     ],
     "language": "python",
     "metadata": {},
     "outputs": [],
     "prompt_number": 94
    },
    {
     "cell_type": "code",
     "collapsed": false,
     "input": [
      "dec_number_of_days = [5, 5, 5, 4, 4, 4, 5]"
     ],
     "language": "python",
     "metadata": {},
     "outputs": [],
     "prompt_number": 95
    },
    {
     "cell_type": "code",
     "collapsed": false,
     "input": [
      "mean_complaints = cfpb_data.groupby(cfpb_data.index.weekday).size() / dec_number_of_days"
     ],
     "language": "python",
     "metadata": {},
     "outputs": [],
     "prompt_number": 96
    },
    {
     "cell_type": "code",
     "collapsed": false,
     "input": [
      "mean_complaints.plot(kind=\"bar\", figsize=(12,8))\n",
      "plt.xticks(range(0,7), [\"Mon\", \"Tues\", \"Wed\", \"Thurs\", \"Fri\", \"Sat\", \"Sun\"])\n",
      "plt.show()"
     ],
     "language": "python",
     "metadata": {},
     "outputs": [
      {
       "metadata": {},
       "output_type": "display_data",
       "png": "[encoded data removed]",
       "text": [
        "<matplotlib.figure.Figure at 0x109bb1198>"
       ]
      }
     ],
     "prompt_number": 97
    },
    {
     "cell_type": "markdown",
     "metadata": {},
     "source": [
      "People are grumpiest at the beginning of the week"
     ]
    },
    {
     "cell_type": "heading",
     "level": 1,
     "metadata": {},
     "source": [
      "Census and state data"
     ]
    },
    {
     "cell_type": "code",
     "collapsed": false,
     "input": [
      "census = pd.read_csv(\"http://www.census.gov/popest/data/state/totals/2014/tables/NST-EST2014-01.csv\", header=3)"
     ],
     "language": "python",
     "metadata": {},
     "outputs": [],
     "prompt_number": 98
    },
    {
     "cell_type": "code",
     "collapsed": false,
     "input": [
      "census.head(10)"
     ],
     "language": "python",
     "metadata": {},
     "outputs": [
      {
       "html": [
        "<div style=\"max-height:1000px;max-width:1500px;overflow:auto;\">\n",
        "<table border=\"1\" class=\"dataframe\">\n",
        "  <thead>\n",
        "    <tr style=\"text-align: right;\">\n",
        "      <th></th>\n",
        "      <th>Unnamed: 0</th>\n",
        "      <th>Census</th>\n",
        "      <th>Estimates Base</th>\n",
        "      <th>2010</th>\n",
        "      <th>2011</th>\n",
        "      <th>2012</th>\n",
        "      <th>2013</th>\n",
        "      <th>2014</th>\n",
        "    </tr>\n",
        "  </thead>\n",
        "  <tbody>\n",
        "    <tr>\n",
        "      <th>0</th>\n",
        "      <td> United States</td>\n",
        "      <td> 308,745,538</td>\n",
        "      <td> 308,758,105</td>\n",
        "      <td> 309,347,057</td>\n",
        "      <td> 311,721,632</td>\n",
        "      <td> 314,112,078</td>\n",
        "      <td> 316,497,531</td>\n",
        "      <td> 318,857,056</td>\n",
        "    </tr>\n",
        "    <tr>\n",
        "      <th>1</th>\n",
        "      <td>     Northeast</td>\n",
        "      <td>  55,317,240</td>\n",
        "      <td>  55,318,348</td>\n",
        "      <td>  55,381,690</td>\n",
        "      <td>  55,635,670</td>\n",
        "      <td>  55,832,038</td>\n",
        "      <td>  56,028,220</td>\n",
        "      <td>  56,152,333</td>\n",
        "    </tr>\n",
        "    <tr>\n",
        "      <th>2</th>\n",
        "      <td>       Midwest</td>\n",
        "      <td>  66,927,001</td>\n",
        "      <td>  66,929,898</td>\n",
        "      <td>  66,972,390</td>\n",
        "      <td>  67,149,657</td>\n",
        "      <td>  67,331,458</td>\n",
        "      <td>  67,567,871</td>\n",
        "      <td>  67,745,108</td>\n",
        "    </tr>\n",
        "    <tr>\n",
        "      <th>3</th>\n",
        "      <td>         South</td>\n",
        "      <td> 114,555,744</td>\n",
        "      <td> 114,562,951</td>\n",
        "      <td> 114,871,231</td>\n",
        "      <td> 116,089,908</td>\n",
        "      <td> 117,346,322</td>\n",
        "      <td> 118,522,802</td>\n",
        "      <td> 119,771,934</td>\n",
        "    </tr>\n",
        "    <tr>\n",
        "      <th>4</th>\n",
        "      <td>          West</td>\n",
        "      <td>  71,945,553</td>\n",
        "      <td>  71,946,908</td>\n",
        "      <td>  72,121,746</td>\n",
        "      <td>  72,846,397</td>\n",
        "      <td>  73,602,260</td>\n",
        "      <td>  74,378,638</td>\n",
        "      <td>  75,187,681</td>\n",
        "    </tr>\n",
        "    <tr>\n",
        "      <th>5</th>\n",
        "      <td>      .Alabama</td>\n",
        "      <td>   4,779,736</td>\n",
        "      <td>   4,780,127</td>\n",
        "      <td>   4,785,822</td>\n",
        "      <td>   4,801,695</td>\n",
        "      <td>   4,817,484</td>\n",
        "      <td>   4,833,996</td>\n",
        "      <td>   4,849,377</td>\n",
        "    </tr>\n",
        "    <tr>\n",
        "      <th>6</th>\n",
        "      <td>       .Alaska</td>\n",
        "      <td>     710,231</td>\n",
        "      <td>     710,249</td>\n",
        "      <td>     713,856</td>\n",
        "      <td>     722,572</td>\n",
        "      <td>     731,081</td>\n",
        "      <td>     737,259</td>\n",
        "      <td>     736,732</td>\n",
        "    </tr>\n",
        "    <tr>\n",
        "      <th>7</th>\n",
        "      <td>      .Arizona</td>\n",
        "      <td>   6,392,017</td>\n",
        "      <td>   6,392,310</td>\n",
        "      <td>   6,411,999</td>\n",
        "      <td>   6,472,867</td>\n",
        "      <td>   6,556,236</td>\n",
        "      <td>   6,634,997</td>\n",
        "      <td>   6,731,484</td>\n",
        "    </tr>\n",
        "    <tr>\n",
        "      <th>8</th>\n",
        "      <td>     .Arkansas</td>\n",
        "      <td>   2,915,918</td>\n",
        "      <td>   2,915,958</td>\n",
        "      <td>   2,922,297</td>\n",
        "      <td>   2,938,430</td>\n",
        "      <td>   2,949,300</td>\n",
        "      <td>   2,958,765</td>\n",
        "      <td>   2,966,369</td>\n",
        "    </tr>\n",
        "    <tr>\n",
        "      <th>9</th>\n",
        "      <td>   .California</td>\n",
        "      <td>  37,253,956</td>\n",
        "      <td>  37,254,503</td>\n",
        "      <td>  37,336,011</td>\n",
        "      <td>  37,701,901</td>\n",
        "      <td>  38,062,780</td>\n",
        "      <td>  38,431,393</td>\n",
        "      <td>  38,802,500</td>\n",
        "    </tr>\n",
        "  </tbody>\n",
        "</table>\n",
        "</div>"
       ],
       "metadata": {},
       "output_type": "pyout",
       "prompt_number": 99,
       "text": [
        "      Unnamed: 0       Census Estimates Base         2010         2011  \\\n",
        "0  United States  308,745,538    308,758,105  309,347,057  311,721,632   \n",
        "1      Northeast   55,317,240     55,318,348   55,381,690   55,635,670   \n",
        "2        Midwest   66,927,001     66,929,898   66,972,390   67,149,657   \n",
        "3          South  114,555,744    114,562,951  114,871,231  116,089,908   \n",
        "4           West   71,945,553     71,946,908   72,121,746   72,846,397   \n",
        "5       .Alabama    4,779,736      4,780,127    4,785,822    4,801,695   \n",
        "6        .Alaska      710,231        710,249      713,856      722,572   \n",
        "7       .Arizona    6,392,017      6,392,310    6,411,999    6,472,867   \n",
        "8      .Arkansas    2,915,918      2,915,958    2,922,297    2,938,430   \n",
        "9    .California   37,253,956     37,254,503   37,336,011   37,701,901   \n",
        "\n",
        "          2012         2013         2014  \n",
        "0  314,112,078  316,497,531  318,857,056  \n",
        "1   55,832,038   56,028,220   56,152,333  \n",
        "2   67,331,458   67,567,871   67,745,108  \n",
        "3  117,346,322  118,522,802  119,771,934  \n",
        "4   73,602,260   74,378,638   75,187,681  \n",
        "5    4,817,484    4,833,996    4,849,377  \n",
        "6      731,081      737,259      736,732  \n",
        "7    6,556,236    6,634,997    6,731,484  \n",
        "8    2,949,300    2,958,765    2,966,369  \n",
        "9   38,062,780   38,431,393   38,802,500  "
       ]
      }
     ],
     "prompt_number": 99
    },
    {
     "cell_type": "code",
     "collapsed": false,
     "input": [
      "states = pd.read_csv(\"state_table.csv\")"
     ],
     "language": "python",
     "metadata": {},
     "outputs": [],
     "prompt_number": 100
    },
    {
     "cell_type": "code",
     "collapsed": false,
     "input": [
      "states.head()"
     ],
     "language": "python",
     "metadata": {},
     "outputs": [
      {
       "html": [
        "<div style=\"max-height:1000px;max-width:1500px;overflow:auto;\">\n",
        "<table border=\"1\" class=\"dataframe\">\n",
        "  <thead>\n",
        "    <tr style=\"text-align: right;\">\n",
        "      <th></th>\n",
        "      <th>id</th>\n",
        "      <th>name</th>\n",
        "      <th>abbreviation</th>\n",
        "      <th>country</th>\n",
        "      <th>type</th>\n",
        "      <th>sort</th>\n",
        "      <th>status</th>\n",
        "      <th>occupied</th>\n",
        "      <th>notes</th>\n",
        "      <th>fips_state</th>\n",
        "      <th>assoc_press</th>\n",
        "      <th>standard_federal_region</th>\n",
        "      <th>census_region</th>\n",
        "      <th>census_region_name</th>\n",
        "      <th>census_division</th>\n",
        "      <th>census_division_name</th>\n",
        "      <th>circuit_court</th>\n",
        "    </tr>\n",
        "  </thead>\n",
        "  <tbody>\n",
        "    <tr>\n",
        "      <th>0</th>\n",
        "      <td> 1</td>\n",
        "      <td>    Alabama</td>\n",
        "      <td> AL</td>\n",
        "      <td> USA</td>\n",
        "      <td> state</td>\n",
        "      <td> 10</td>\n",
        "      <td> current</td>\n",
        "      <td> occupied</td>\n",
        "      <td>NaN</td>\n",
        "      <td> 1</td>\n",
        "      <td>   Ala.</td>\n",
        "      <td> IV</td>\n",
        "      <td> 3</td>\n",
        "      <td> South</td>\n",
        "      <td> 6</td>\n",
        "      <td> East South Central</td>\n",
        "      <td> 11</td>\n",
        "    </tr>\n",
        "    <tr>\n",
        "      <th>1</th>\n",
        "      <td> 2</td>\n",
        "      <td>     Alaska</td>\n",
        "      <td> AK</td>\n",
        "      <td> USA</td>\n",
        "      <td> state</td>\n",
        "      <td> 10</td>\n",
        "      <td> current</td>\n",
        "      <td> occupied</td>\n",
        "      <td>NaN</td>\n",
        "      <td> 2</td>\n",
        "      <td> Alaska</td>\n",
        "      <td>  X</td>\n",
        "      <td> 4</td>\n",
        "      <td>  West</td>\n",
        "      <td> 9</td>\n",
        "      <td>            Pacific</td>\n",
        "      <td>  9</td>\n",
        "    </tr>\n",
        "    <tr>\n",
        "      <th>2</th>\n",
        "      <td> 3</td>\n",
        "      <td>    Arizona</td>\n",
        "      <td> AZ</td>\n",
        "      <td> USA</td>\n",
        "      <td> state</td>\n",
        "      <td> 10</td>\n",
        "      <td> current</td>\n",
        "      <td> occupied</td>\n",
        "      <td>NaN</td>\n",
        "      <td> 4</td>\n",
        "      <td>  Ariz.</td>\n",
        "      <td> IX</td>\n",
        "      <td> 4</td>\n",
        "      <td>  West</td>\n",
        "      <td> 8</td>\n",
        "      <td>           Mountain</td>\n",
        "      <td>  9</td>\n",
        "    </tr>\n",
        "    <tr>\n",
        "      <th>3</th>\n",
        "      <td> 4</td>\n",
        "      <td>   Arkansas</td>\n",
        "      <td> AR</td>\n",
        "      <td> USA</td>\n",
        "      <td> state</td>\n",
        "      <td> 10</td>\n",
        "      <td> current</td>\n",
        "      <td> occupied</td>\n",
        "      <td>NaN</td>\n",
        "      <td> 5</td>\n",
        "      <td>   Ark.</td>\n",
        "      <td> VI</td>\n",
        "      <td> 3</td>\n",
        "      <td> South</td>\n",
        "      <td> 7</td>\n",
        "      <td> West South Central</td>\n",
        "      <td>  8</td>\n",
        "    </tr>\n",
        "    <tr>\n",
        "      <th>4</th>\n",
        "      <td> 5</td>\n",
        "      <td> California</td>\n",
        "      <td> CA</td>\n",
        "      <td> USA</td>\n",
        "      <td> state</td>\n",
        "      <td> 10</td>\n",
        "      <td> current</td>\n",
        "      <td> occupied</td>\n",
        "      <td>NaN</td>\n",
        "      <td> 6</td>\n",
        "      <td> Calif.</td>\n",
        "      <td> IX</td>\n",
        "      <td> 4</td>\n",
        "      <td>  West</td>\n",
        "      <td> 9</td>\n",
        "      <td>            Pacific</td>\n",
        "      <td>  9</td>\n",
        "    </tr>\n",
        "  </tbody>\n",
        "</table>\n",
        "</div>"
       ],
       "metadata": {},
       "output_type": "pyout",
       "prompt_number": 101,
       "text": [
        "   id        name abbreviation country   type  sort   status  occupied  notes  \\\n",
        "0   1     Alabama           AL     USA  state    10  current  occupied    NaN   \n",
        "1   2      Alaska           AK     USA  state    10  current  occupied    NaN   \n",
        "2   3     Arizona           AZ     USA  state    10  current  occupied    NaN   \n",
        "3   4    Arkansas           AR     USA  state    10  current  occupied    NaN   \n",
        "4   5  California           CA     USA  state    10  current  occupied    NaN   \n",
        "\n",
        "   fips_state assoc_press standard_federal_region  census_region  \\\n",
        "0           1        Ala.                      IV              3   \n",
        "1           2      Alaska                       X              4   \n",
        "2           4       Ariz.                      IX              4   \n",
        "3           5        Ark.                      VI              3   \n",
        "4           6      Calif.                      IX              4   \n",
        "\n",
        "  census_region_name  census_division census_division_name circuit_court  \n",
        "0              South                6   East South Central            11  \n",
        "1               West                9              Pacific             9  \n",
        "2               West                8             Mountain             9  \n",
        "3              South                7   West South Central             8  \n",
        "4               West                9              Pacific             9  "
       ]
      }
     ],
     "prompt_number": 101
    },
    {
     "cell_type": "code",
     "collapsed": false,
     "input": [
      "census[\"Unnamed: 0\"][5:13] = states[\"abbreviation\"][0:8]"
     ],
     "language": "python",
     "metadata": {},
     "outputs": [],
     "prompt_number": 102
    },
    {
     "cell_type": "code",
     "collapsed": false,
     "input": [
      "census[\"Unnamed: 0\"][14:56] = states[\"abbreviation\"][8:50]"
     ],
     "language": "python",
     "metadata": {},
     "outputs": [],
     "prompt_number": 103
    },
    {
     "cell_type": "code",
     "collapsed": false,
     "input": [
      "# reformated census data with state abbreviations so it matches cfpb data\n",
      "\n",
      "census.head(10)"
     ],
     "language": "python",
     "metadata": {},
     "outputs": [
      {
       "html": [
        "<div style=\"max-height:1000px;max-width:1500px;overflow:auto;\">\n",
        "<table border=\"1\" class=\"dataframe\">\n",
        "  <thead>\n",
        "    <tr style=\"text-align: right;\">\n",
        "      <th></th>\n",
        "      <th>Unnamed: 0</th>\n",
        "      <th>Census</th>\n",
        "      <th>Estimates Base</th>\n",
        "      <th>2010</th>\n",
        "      <th>2011</th>\n",
        "      <th>2012</th>\n",
        "      <th>2013</th>\n",
        "      <th>2014</th>\n",
        "    </tr>\n",
        "  </thead>\n",
        "  <tbody>\n",
        "    <tr>\n",
        "      <th>0</th>\n",
        "      <td> United States</td>\n",
        "      <td> 308,745,538</td>\n",
        "      <td> 308,758,105</td>\n",
        "      <td> 309,347,057</td>\n",
        "      <td> 311,721,632</td>\n",
        "      <td> 314,112,078</td>\n",
        "      <td> 316,497,531</td>\n",
        "      <td> 318,857,056</td>\n",
        "    </tr>\n",
        "    <tr>\n",
        "      <th>1</th>\n",
        "      <td>     Northeast</td>\n",
        "      <td>  55,317,240</td>\n",
        "      <td>  55,318,348</td>\n",
        "      <td>  55,381,690</td>\n",
        "      <td>  55,635,670</td>\n",
        "      <td>  55,832,038</td>\n",
        "      <td>  56,028,220</td>\n",
        "      <td>  56,152,333</td>\n",
        "    </tr>\n",
        "    <tr>\n",
        "      <th>2</th>\n",
        "      <td>       Midwest</td>\n",
        "      <td>  66,927,001</td>\n",
        "      <td>  66,929,898</td>\n",
        "      <td>  66,972,390</td>\n",
        "      <td>  67,149,657</td>\n",
        "      <td>  67,331,458</td>\n",
        "      <td>  67,567,871</td>\n",
        "      <td>  67,745,108</td>\n",
        "    </tr>\n",
        "    <tr>\n",
        "      <th>3</th>\n",
        "      <td>         South</td>\n",
        "      <td> 114,555,744</td>\n",
        "      <td> 114,562,951</td>\n",
        "      <td> 114,871,231</td>\n",
        "      <td> 116,089,908</td>\n",
        "      <td> 117,346,322</td>\n",
        "      <td> 118,522,802</td>\n",
        "      <td> 119,771,934</td>\n",
        "    </tr>\n",
        "    <tr>\n",
        "      <th>4</th>\n",
        "      <td>          West</td>\n",
        "      <td>  71,945,553</td>\n",
        "      <td>  71,946,908</td>\n",
        "      <td>  72,121,746</td>\n",
        "      <td>  72,846,397</td>\n",
        "      <td>  73,602,260</td>\n",
        "      <td>  74,378,638</td>\n",
        "      <td>  75,187,681</td>\n",
        "    </tr>\n",
        "    <tr>\n",
        "      <th>5</th>\n",
        "      <td>            AL</td>\n",
        "      <td>   4,779,736</td>\n",
        "      <td>   4,780,127</td>\n",
        "      <td>   4,785,822</td>\n",
        "      <td>   4,801,695</td>\n",
        "      <td>   4,817,484</td>\n",
        "      <td>   4,833,996</td>\n",
        "      <td>   4,849,377</td>\n",
        "    </tr>\n",
        "    <tr>\n",
        "      <th>6</th>\n",
        "      <td>            AK</td>\n",
        "      <td>     710,231</td>\n",
        "      <td>     710,249</td>\n",
        "      <td>     713,856</td>\n",
        "      <td>     722,572</td>\n",
        "      <td>     731,081</td>\n",
        "      <td>     737,259</td>\n",
        "      <td>     736,732</td>\n",
        "    </tr>\n",
        "    <tr>\n",
        "      <th>7</th>\n",
        "      <td>            AZ</td>\n",
        "      <td>   6,392,017</td>\n",
        "      <td>   6,392,310</td>\n",
        "      <td>   6,411,999</td>\n",
        "      <td>   6,472,867</td>\n",
        "      <td>   6,556,236</td>\n",
        "      <td>   6,634,997</td>\n",
        "      <td>   6,731,484</td>\n",
        "    </tr>\n",
        "    <tr>\n",
        "      <th>8</th>\n",
        "      <td>            AR</td>\n",
        "      <td>   2,915,918</td>\n",
        "      <td>   2,915,958</td>\n",
        "      <td>   2,922,297</td>\n",
        "      <td>   2,938,430</td>\n",
        "      <td>   2,949,300</td>\n",
        "      <td>   2,958,765</td>\n",
        "      <td>   2,966,369</td>\n",
        "    </tr>\n",
        "    <tr>\n",
        "      <th>9</th>\n",
        "      <td>            CA</td>\n",
        "      <td>  37,253,956</td>\n",
        "      <td>  37,254,503</td>\n",
        "      <td>  37,336,011</td>\n",
        "      <td>  37,701,901</td>\n",
        "      <td>  38,062,780</td>\n",
        "      <td>  38,431,393</td>\n",
        "      <td>  38,802,500</td>\n",
        "    </tr>\n",
        "  </tbody>\n",
        "</table>\n",
        "</div>"
       ],
       "metadata": {},
       "output_type": "pyout",
       "prompt_number": 104,
       "text": [
        "      Unnamed: 0       Census Estimates Base         2010         2011  \\\n",
        "0  United States  308,745,538    308,758,105  309,347,057  311,721,632   \n",
        "1      Northeast   55,317,240     55,318,348   55,381,690   55,635,670   \n",
        "2        Midwest   66,927,001     66,929,898   66,972,390   67,149,657   \n",
        "3          South  114,555,744    114,562,951  114,871,231  116,089,908   \n",
        "4           West   71,945,553     71,946,908   72,121,746   72,846,397   \n",
        "5             AL    4,779,736      4,780,127    4,785,822    4,801,695   \n",
        "6             AK      710,231        710,249      713,856      722,572   \n",
        "7             AZ    6,392,017      6,392,310    6,411,999    6,472,867   \n",
        "8             AR    2,915,918      2,915,958    2,922,297    2,938,430   \n",
        "9             CA   37,253,956     37,254,503   37,336,011   37,701,901   \n",
        "\n",
        "          2012         2013         2014  \n",
        "0  314,112,078  316,497,531  318,857,056  \n",
        "1   55,832,038   56,028,220   56,152,333  \n",
        "2   67,331,458   67,567,871   67,745,108  \n",
        "3  117,346,322  118,522,802  119,771,934  \n",
        "4   73,602,260   74,378,638   75,187,681  \n",
        "5    4,817,484    4,833,996    4,849,377  \n",
        "6      731,081      737,259      736,732  \n",
        "7    6,556,236    6,634,997    6,731,484  \n",
        "8    2,949,300    2,958,765    2,966,369  \n",
        "9   38,062,780   38,431,393   38,802,500  "
       ]
      }
     ],
     "prompt_number": 104
    },
    {
     "cell_type": "code",
     "collapsed": false,
     "input": [
      "census[\"2013\"][5]"
     ],
     "language": "python",
     "metadata": {},
     "outputs": [
      {
       "metadata": {},
       "output_type": "pyout",
       "prompt_number": 105,
       "text": [
        "'4,833,996'"
       ]
      }
     ],
     "prompt_number": 105
    },
    {
     "cell_type": "code",
     "collapsed": false,
     "input": [
      "census.index = census.pop(\"Unnamed: 0\")"
     ],
     "language": "python",
     "metadata": {},
     "outputs": [],
     "prompt_number": 106
    },
    {
     "cell_type": "code",
     "collapsed": false,
     "input": [
      "census.index.names = [\"State\"]"
     ],
     "language": "python",
     "metadata": {},
     "outputs": [],
     "prompt_number": 107
    },
    {
     "cell_type": "code",
     "collapsed": false,
     "input": [
      "census.head()"
     ],
     "language": "python",
     "metadata": {},
     "outputs": [
      {
       "html": [
        "<div style=\"max-height:1000px;max-width:1500px;overflow:auto;\">\n",
        "<table border=\"1\" class=\"dataframe\">\n",
        "  <thead>\n",
        "    <tr style=\"text-align: right;\">\n",
        "      <th></th>\n",
        "      <th>Census</th>\n",
        "      <th>Estimates Base</th>\n",
        "      <th>2010</th>\n",
        "      <th>2011</th>\n",
        "      <th>2012</th>\n",
        "      <th>2013</th>\n",
        "      <th>2014</th>\n",
        "    </tr>\n",
        "    <tr>\n",
        "      <th>State</th>\n",
        "      <th></th>\n",
        "      <th></th>\n",
        "      <th></th>\n",
        "      <th></th>\n",
        "      <th></th>\n",
        "      <th></th>\n",
        "      <th></th>\n",
        "    </tr>\n",
        "  </thead>\n",
        "  <tbody>\n",
        "    <tr>\n",
        "      <th>United States</th>\n",
        "      <td> 308,745,538</td>\n",
        "      <td> 308,758,105</td>\n",
        "      <td> 309,347,057</td>\n",
        "      <td> 311,721,632</td>\n",
        "      <td> 314,112,078</td>\n",
        "      <td> 316,497,531</td>\n",
        "      <td> 318,857,056</td>\n",
        "    </tr>\n",
        "    <tr>\n",
        "      <th>Northeast</th>\n",
        "      <td>  55,317,240</td>\n",
        "      <td>  55,318,348</td>\n",
        "      <td>  55,381,690</td>\n",
        "      <td>  55,635,670</td>\n",
        "      <td>  55,832,038</td>\n",
        "      <td>  56,028,220</td>\n",
        "      <td>  56,152,333</td>\n",
        "    </tr>\n",
        "    <tr>\n",
        "      <th>Midwest</th>\n",
        "      <td>  66,927,001</td>\n",
        "      <td>  66,929,898</td>\n",
        "      <td>  66,972,390</td>\n",
        "      <td>  67,149,657</td>\n",
        "      <td>  67,331,458</td>\n",
        "      <td>  67,567,871</td>\n",
        "      <td>  67,745,108</td>\n",
        "    </tr>\n",
        "    <tr>\n",
        "      <th>South</th>\n",
        "      <td> 114,555,744</td>\n",
        "      <td> 114,562,951</td>\n",
        "      <td> 114,871,231</td>\n",
        "      <td> 116,089,908</td>\n",
        "      <td> 117,346,322</td>\n",
        "      <td> 118,522,802</td>\n",
        "      <td> 119,771,934</td>\n",
        "    </tr>\n",
        "    <tr>\n",
        "      <th>West</th>\n",
        "      <td>  71,945,553</td>\n",
        "      <td>  71,946,908</td>\n",
        "      <td>  72,121,746</td>\n",
        "      <td>  72,846,397</td>\n",
        "      <td>  73,602,260</td>\n",
        "      <td>  74,378,638</td>\n",
        "      <td>  75,187,681</td>\n",
        "    </tr>\n",
        "  </tbody>\n",
        "</table>\n",
        "</div>"
       ],
       "metadata": {},
       "output_type": "pyout",
       "prompt_number": 108,
       "text": [
        "                    Census Estimates Base         2010         2011  \\\n",
        "State                                                                 \n",
        "United States  308,745,538    308,758,105  309,347,057  311,721,632   \n",
        "Northeast       55,317,240     55,318,348   55,381,690   55,635,670   \n",
        "Midwest         66,927,001     66,929,898   66,972,390   67,149,657   \n",
        "South          114,555,744    114,562,951  114,871,231  116,089,908   \n",
        "West            71,945,553     71,946,908   72,121,746   72,846,397   \n",
        "\n",
        "                      2012         2013         2014  \n",
        "State                                                 \n",
        "United States  314,112,078  316,497,531  318,857,056  \n",
        "Northeast       55,832,038   56,028,220   56,152,333  \n",
        "Midwest         67,331,458   67,567,871   67,745,108  \n",
        "South          117,346,322  118,522,802  119,771,934  \n",
        "West            73,602,260   74,378,638   75,187,681  "
       ]
      }
     ],
     "prompt_number": 108
    },
    {
     "cell_type": "code",
     "collapsed": false,
     "input": [
      "complaints_by_state = pd.DataFrame(cfpb_data.groupby(\"State\").size(), columns=[\"complaints\"])"
     ],
     "language": "python",
     "metadata": {},
     "outputs": [],
     "prompt_number": 109
    },
    {
     "cell_type": "code",
     "collapsed": false,
     "input": [
      "complaints_by_state.head()"
     ],
     "language": "python",
     "metadata": {},
     "outputs": [
      {
       "html": [
        "<div style=\"max-height:1000px;max-width:1500px;overflow:auto;\">\n",
        "<table border=\"1\" class=\"dataframe\">\n",
        "  <thead>\n",
        "    <tr style=\"text-align: right;\">\n",
        "      <th></th>\n",
        "      <th>complaints</th>\n",
        "    </tr>\n",
        "    <tr>\n",
        "      <th>State</th>\n",
        "      <th></th>\n",
        "    </tr>\n",
        "  </thead>\n",
        "  <tbody>\n",
        "    <tr>\n",
        "      <th>AE</th>\n",
        "      <td>   5</td>\n",
        "    </tr>\n",
        "    <tr>\n",
        "      <th>AK</th>\n",
        "      <td>  15</td>\n",
        "    </tr>\n",
        "    <tr>\n",
        "      <th>AL</th>\n",
        "      <td> 147</td>\n",
        "    </tr>\n",
        "    <tr>\n",
        "      <th>AP</th>\n",
        "      <td>   1</td>\n",
        "    </tr>\n",
        "    <tr>\n",
        "      <th>AR</th>\n",
        "      <td>  59</td>\n",
        "    </tr>\n",
        "  </tbody>\n",
        "</table>\n",
        "</div>"
       ],
       "metadata": {},
       "output_type": "pyout",
       "prompt_number": 198,
       "text": [
        "       complaints\n",
        "State            \n",
        "AE              5\n",
        "AK             15\n",
        "AL            147\n",
        "AP              1\n",
        "AR             59"
       ]
      }
     ],
     "prompt_number": 198
    },
    {
     "cell_type": "code",
     "collapsed": false,
     "input": [
      "census[\"2014\"][\"AL\"]"
     ],
     "language": "python",
     "metadata": {},
     "outputs": [
      {
       "metadata": {},
       "output_type": "pyout",
       "prompt_number": 111,
       "text": [
        "'4,849,377'"
       ]
      }
     ],
     "prompt_number": 111
    },
    {
     "cell_type": "code",
     "collapsed": false,
     "input": [
      "len(complaints_by_state)"
     ],
     "language": "python",
     "metadata": {},
     "outputs": [
      {
       "metadata": {},
       "output_type": "pyout",
       "prompt_number": 112,
       "text": [
        "56"
       ]
      }
     ],
     "prompt_number": 112
    },
    {
     "cell_type": "code",
     "collapsed": false,
     "input": [
      "x = int(census.ix[\"AL\"][\"2014\"].replace(',', ''))"
     ],
     "language": "python",
     "metadata": {},
     "outputs": [],
     "prompt_number": 113
    },
    {
     "cell_type": "code",
     "collapsed": false,
     "input": [
      "x"
     ],
     "language": "python",
     "metadata": {},
     "outputs": [
      {
       "metadata": {},
       "output_type": "pyout",
       "prompt_number": 114,
       "text": [
        "4849377"
       ]
      }
     ],
     "prompt_number": 114
    },
    {
     "cell_type": "code",
     "collapsed": false,
     "input": [
      "int(census.loc[\"AL\"][\"2014\"].replace(',', ''))"
     ],
     "language": "python",
     "metadata": {},
     "outputs": [
      {
       "metadata": {},
       "output_type": "pyout",
       "prompt_number": 115,
       "text": [
        "4849377"
       ]
      }
     ],
     "prompt_number": 115
    },
    {
     "cell_type": "code",
     "collapsed": false,
     "input": [
      "complaints_by_state.head()"
     ],
     "language": "python",
     "metadata": {},
     "outputs": [
      {
       "html": [
        "<div style=\"max-height:1000px;max-width:1500px;overflow:auto;\">\n",
        "<table border=\"1\" class=\"dataframe\">\n",
        "  <thead>\n",
        "    <tr style=\"text-align: right;\">\n",
        "      <th></th>\n",
        "      <th>complaints</th>\n",
        "    </tr>\n",
        "    <tr>\n",
        "      <th>State</th>\n",
        "      <th></th>\n",
        "    </tr>\n",
        "  </thead>\n",
        "  <tbody>\n",
        "    <tr>\n",
        "      <th>AE</th>\n",
        "      <td>   5</td>\n",
        "    </tr>\n",
        "    <tr>\n",
        "      <th>AK</th>\n",
        "      <td>  15</td>\n",
        "    </tr>\n",
        "    <tr>\n",
        "      <th>AL</th>\n",
        "      <td> 147</td>\n",
        "    </tr>\n",
        "    <tr>\n",
        "      <th>AP</th>\n",
        "      <td>   1</td>\n",
        "    </tr>\n",
        "    <tr>\n",
        "      <th>AR</th>\n",
        "      <td>  59</td>\n",
        "    </tr>\n",
        "  </tbody>\n",
        "</table>\n",
        "</div>"
       ],
       "metadata": {},
       "output_type": "pyout",
       "prompt_number": 116,
       "text": [
        "       complaints\n",
        "State            \n",
        "AE              5\n",
        "AK             15\n",
        "AL            147\n",
        "AP              1\n",
        "AR             59"
       ]
      }
     ],
     "prompt_number": 116
    },
    {
     "cell_type": "code",
     "collapsed": false,
     "input": [
      "census_complaints = census.join(complaints_by_state)"
     ],
     "language": "python",
     "metadata": {},
     "outputs": [],
     "prompt_number": 117
    },
    {
     "cell_type": "code",
     "collapsed": false,
     "input": [
      "def remove_commas(string):\n",
      "    string = string.replace(\",\",\"\")\n",
      "    return string"
     ],
     "language": "python",
     "metadata": {},
     "outputs": [],
     "prompt_number": 119
    },
    {
     "cell_type": "code",
     "collapsed": false,
     "input": [
      "census_complaints.columns"
     ],
     "language": "python",
     "metadata": {},
     "outputs": [
      {
       "metadata": {},
       "output_type": "pyout",
       "prompt_number": 120,
       "text": [
        "Index(['Census', 'Estimates Base', '2010', '2011', '2012', '2013', '2014', 'complaints'], dtype='object')"
       ]
      }
     ],
     "prompt_number": 120
    },
    {
     "cell_type": "code",
     "collapsed": false,
     "input": [
      "remove_commas(\"23,435,535\")"
     ],
     "language": "python",
     "metadata": {},
     "outputs": [
      {
       "metadata": {},
       "output_type": "pyout",
       "prompt_number": 121,
       "text": [
        "'23435535'"
       ]
      }
     ],
     "prompt_number": 121
    },
    {
     "cell_type": "code",
     "collapsed": false,
     "input": [
      "census_complaints.index[55]"
     ],
     "language": "python",
     "metadata": {},
     "outputs": [
      {
       "metadata": {},
       "output_type": "pyout",
       "prompt_number": 122,
       "text": [
        "'WY'"
       ]
      }
     ],
     "prompt_number": 122
    },
    {
     "cell_type": "code",
     "collapsed": false,
     "input": [
      "per_capita = census_complaints.drop(census_complaints.index[[0,1,2,3,4,56,57,58,59,60,61,62]])"
     ],
     "language": "python",
     "metadata": {},
     "outputs": [],
     "prompt_number": 123
    },
    {
     "cell_type": "code",
     "collapsed": false,
     "input": [
      "per_capita[\"2014\"] = per_capita[\"2014\"].apply(remove_commas)"
     ],
     "language": "python",
     "metadata": {},
     "outputs": [],
     "prompt_number": 124
    },
    {
     "cell_type": "code",
     "collapsed": false,
     "input": [
      "per_capita[\"2014\"] = per_capita[\"2014\"].astype(int)"
     ],
     "language": "python",
     "metadata": {},
     "outputs": [],
     "prompt_number": 125
    },
    {
     "cell_type": "code",
     "collapsed": false,
     "input": [
      "per_capita[\"complaints per capita\"] = per_capita[\"complaints\"] / per_capita[\"2014\"]"
     ],
     "language": "python",
     "metadata": {},
     "outputs": [],
     "prompt_number": 128
    },
    {
     "cell_type": "code",
     "collapsed": false,
     "input": [
      "per_capita[\"complaints per capita\"] = per_capita[\"complaints per capita\"].replace(\"NaN\", 0)"
     ],
     "language": "python",
     "metadata": {},
     "outputs": [],
     "prompt_number": 145
    },
    {
     "cell_type": "heading",
     "level": 1,
     "metadata": {},
     "source": [
      "Complaints per capita by state"
     ]
    },
    {
     "cell_type": "code",
     "collapsed": false,
     "input": [
      "per_capita[\"complaints per capita\"].nlargest(10)  # top 10 complainers"
     ],
     "language": "python",
     "metadata": {},
     "outputs": [
      {
       "metadata": {},
       "output_type": "pyout",
       "prompt_number": 185,
       "text": [
        "State\n",
        "MD       0.000057\n",
        "NV       0.000056\n",
        "FL       0.000055\n",
        "NJ       0.000052\n",
        "GA       0.000051\n",
        "DE       0.000047\n",
        "VA       0.000045\n",
        "CA       0.000041\n",
        "TX       0.000041\n",
        "RI       0.000038\n",
        "Name: complaints per capita, dtype: float64"
       ]
      }
     ],
     "prompt_number": 185
    },
    {
     "cell_type": "code",
     "collapsed": false,
     "input": [
      "per_capita[\"complaints per capita\"].plot(kind=\"bar\", figsize=(12,8))\n",
      "plt.show()"
     ],
     "language": "python",
     "metadata": {},
     "outputs": [
      {
       "metadata": {},
       "output_type": "display_data",
       "png": "[encoded data removed]",
       "text": [
        "<matplotlib.figure.Figure at 0x10dec9080>"
       ]
      }
     ],
     "prompt_number": 178
    },
    {
     "cell_type": "heading",
     "level": 1,
     "metadata": {},
     "source": [
      "Most complaints by zip code"
     ]
    },
    {
     "cell_type": "code",
     "collapsed": false,
     "input": [
      "cfpb_data.groupby(\"ZIP code\").size().nlargest(20)"
     ],
     "language": "python",
     "metadata": {},
     "outputs": [
      {
       "metadata": {},
       "output_type": "pyout",
       "prompt_number": 188,
       "text": [
        "ZIP code\n",
        "60445       42\n",
        "94030       27\n",
        "77065       25\n",
        "78232       23\n",
        "76028       22\n",
        "53072       21\n",
        "35040       19\n",
        "85251       18\n",
        "89113       18\n",
        "76116       17\n",
        "79424       17\n",
        "21117       16\n",
        "78204       16\n",
        "20744       15\n",
        "33173       15\n",
        "11219       14\n",
        "80134       14\n",
        "33462       13\n",
        "77083       13\n",
        "96727       13\n",
        "dtype: int64"
       ]
      }
     ],
     "prompt_number": 188
    },
    {
     "cell_type": "code",
     "collapsed": false,
     "input": [
      "cfpb_data.groupby(\"ZIP code\").size().nlargest(20).plot(kind=\"bar\", figsize=(12,8))\n",
      "plt.show()"
     ],
     "language": "python",
     "metadata": {},
     "outputs": [
      {
       "metadata": {},
       "output_type": "display_data",
       "png": "[encoded data removed]",
       "text": [
        "<matplotlib.figure.Figure at 0x10da347b8>"
       ]
      }
     ],
     "prompt_number": 196
    },
    {
     "cell_type": "heading",
     "level": 3,
     "metadata": {},
     "source": [
      "Top 5 zip codes"
     ]
    },
    {
     "cell_type": "markdown",
     "metadata": {},
     "source": [
      "60555 = Midlothian, IL\n",
      "\n",
      "94030 = Milbrae, CA\n",
      "\n",
      "77065 = Houston, TX\n",
      "\n",
      "78232 = San antonio, TX\n",
      "\n",
      "76028 = Burleson, TX"
     ]
    },
    {
     "cell_type": "code",
     "collapsed": false,
     "input": [],
     "language": "python",
     "metadata": {},
     "outputs": []
    }
   ],
   "metadata": {}
  }
 ]
}