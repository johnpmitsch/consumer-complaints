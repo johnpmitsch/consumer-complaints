{
 "metadata": {
  "name": "",
  "signature": "sha256:cc33de1c8f75adf9f272020398147cb8b10c0769943fea59cca58a65f80c086a"
 },
 "nbformat": 3,
 "nbformat_minor": 0,
 "worksheets": [
  {
   "cells": [
    {
     "cell_type": "heading",
     "level": 1,
     "metadata": {},
     "source": [
      "Consumer Financial Protection Bureau Customer Complaint Data Analysis"
     ]
    },
    {
     "cell_type": "code",
     "collapsed": false,
     "input": [
      "import pandas as pd\n",
      "import numpy as np\n",
      "import matplotlib.pyplot as plt\n",
      "import seaborn as sns"
     ],
     "language": "python",
     "metadata": {},
     "outputs": [],
     "prompt_number": 1
    },
    {
     "cell_type": "code",
     "collapsed": false,
     "input": [
      "%matplotlib inline"
     ],
     "language": "python",
     "metadata": {},
     "outputs": [],
     "prompt_number": 2
    },
    {
     "cell_type": "code",
     "collapsed": false,
     "input": [
      "cfpb_data = pd.read_csv(\"complaints_dec_2014.csv\")"
     ],
     "language": "python",
     "metadata": {},
     "outputs": [],
     "prompt_number": 3
    },
    {
     "cell_type": "code",
     "collapsed": false,
     "input": [
      "cfpb_data.index = pd.to_datetime(cfpb_data.pop(\"Date received\"), format=\"%m/%d/%Y\")"
     ],
     "language": "python",
     "metadata": {},
     "outputs": [],
     "prompt_number": 4
    },
    {
     "cell_type": "code",
     "collapsed": false,
     "input": [
      "cfpb_data.head()"
     ],
     "language": "python",
     "metadata": {},
     "outputs": [
      {
       "html": [
        "<div style=\"max-height:1000px;max-width:1500px;overflow:auto;\">\n",
        "<table border=\"1\" class=\"dataframe\">\n",
        "  <thead>\n",
        "    <tr style=\"text-align: right;\">\n",
        "      <th></th>\n",
        "      <th>Complaint ID</th>\n",
        "      <th>Product</th>\n",
        "      <th>Sub-product</th>\n",
        "      <th>Issue</th>\n",
        "      <th>Sub-issue</th>\n",
        "      <th>State</th>\n",
        "      <th>ZIP code</th>\n",
        "      <th>Submitted via</th>\n",
        "      <th>Date sent to company</th>\n",
        "      <th>Company</th>\n",
        "      <th>Company response</th>\n",
        "      <th>Timely response?</th>\n",
        "      <th>Consumer disputed?</th>\n",
        "    </tr>\n",
        "    <tr>\n",
        "      <th>Date received</th>\n",
        "      <th></th>\n",
        "      <th></th>\n",
        "      <th></th>\n",
        "      <th></th>\n",
        "      <th></th>\n",
        "      <th></th>\n",
        "      <th></th>\n",
        "      <th></th>\n",
        "      <th></th>\n",
        "      <th></th>\n",
        "      <th></th>\n",
        "      <th></th>\n",
        "      <th></th>\n",
        "    </tr>\n",
        "  </thead>\n",
        "  <tbody>\n",
        "    <tr>\n",
        "      <th>2014-12-31</th>\n",
        "      <td> 1177167</td>\n",
        "      <td> Debt collection</td>\n",
        "      <td> NaN</td>\n",
        "      <td> Cont'd attempts collect debt not owed</td>\n",
        "      <td> Debt is not mine</td>\n",
        "      <td> TX</td>\n",
        "      <td> 77068</td>\n",
        "      <td> Web</td>\n",
        "      <td> 12/31/2014</td>\n",
        "      <td>  Ad Astra Recovery Services Inc</td>\n",
        "      <td>         Closed with explanation</td>\n",
        "      <td> Yes</td>\n",
        "      <td> NaN</td>\n",
        "    </tr>\n",
        "    <tr>\n",
        "      <th>2014-12-31</th>\n",
        "      <td> 1177166</td>\n",
        "      <td> Debt collection</td>\n",
        "      <td> NaN</td>\n",
        "      <td> Cont'd attempts collect debt not owed</td>\n",
        "      <td> Debt is not mine</td>\n",
        "      <td> TX</td>\n",
        "      <td> 77068</td>\n",
        "      <td> Web</td>\n",
        "      <td> 12/31/2014</td>\n",
        "      <td> Unique Management Services, Inc</td>\n",
        "      <td>         Closed with explanation</td>\n",
        "      <td> Yes</td>\n",
        "      <td> NaN</td>\n",
        "    </tr>\n",
        "    <tr>\n",
        "      <th>2014-12-31</th>\n",
        "      <td> 1177165</td>\n",
        "      <td> Debt collection</td>\n",
        "      <td> NaN</td>\n",
        "      <td> Cont'd attempts collect debt not owed</td>\n",
        "      <td> Debt is not mine</td>\n",
        "      <td> TX</td>\n",
        "      <td> 77068</td>\n",
        "      <td> Web</td>\n",
        "      <td> 12/31/2014</td>\n",
        "      <td>                CL Holdings, LLC</td>\n",
        "      <td>     Closed with monetary relief</td>\n",
        "      <td> Yes</td>\n",
        "      <td> NaN</td>\n",
        "    </tr>\n",
        "    <tr>\n",
        "      <th>2014-12-31</th>\n",
        "      <td> 1177164</td>\n",
        "      <td> Debt collection</td>\n",
        "      <td> NaN</td>\n",
        "      <td> Cont'd attempts collect debt not owed</td>\n",
        "      <td> Debt is not mine</td>\n",
        "      <td> TX</td>\n",
        "      <td> 77068</td>\n",
        "      <td> Web</td>\n",
        "      <td> 12/31/2014</td>\n",
        "      <td>  Enhanced Recovery Company, LLC</td>\n",
        "      <td> Closed with non-monetary relief</td>\n",
        "      <td> Yes</td>\n",
        "      <td> NaN</td>\n",
        "    </tr>\n",
        "    <tr>\n",
        "      <th>2014-12-31</th>\n",
        "      <td> 1177163</td>\n",
        "      <td> Debt collection</td>\n",
        "      <td> NaN</td>\n",
        "      <td> Cont'd attempts collect debt not owed</td>\n",
        "      <td> Debt is not mine</td>\n",
        "      <td> TX</td>\n",
        "      <td> 77068</td>\n",
        "      <td> Web</td>\n",
        "      <td> 12/31/2014</td>\n",
        "      <td>      Enhanced Acquisitions, LLC</td>\n",
        "      <td>         Closed with explanation</td>\n",
        "      <td> Yes</td>\n",
        "      <td> NaN</td>\n",
        "    </tr>\n",
        "  </tbody>\n",
        "</table>\n",
        "</div>"
       ],
       "metadata": {},
       "output_type": "pyout",
       "prompt_number": 5,
       "text": [
        "               Complaint ID          Product Sub-product  \\\n",
        "Date received                                              \n",
        "2014-12-31          1177167  Debt collection         NaN   \n",
        "2014-12-31          1177166  Debt collection         NaN   \n",
        "2014-12-31          1177165  Debt collection         NaN   \n",
        "2014-12-31          1177164  Debt collection         NaN   \n",
        "2014-12-31          1177163  Debt collection         NaN   \n",
        "\n",
        "                                               Issue         Sub-issue State  \\\n",
        "Date received                                                                  \n",
        "2014-12-31     Cont'd attempts collect debt not owed  Debt is not mine    TX   \n",
        "2014-12-31     Cont'd attempts collect debt not owed  Debt is not mine    TX   \n",
        "2014-12-31     Cont'd attempts collect debt not owed  Debt is not mine    TX   \n",
        "2014-12-31     Cont'd attempts collect debt not owed  Debt is not mine    TX   \n",
        "2014-12-31     Cont'd attempts collect debt not owed  Debt is not mine    TX   \n",
        "\n",
        "               ZIP code Submitted via Date sent to company  \\\n",
        "Date received                                                \n",
        "2014-12-31        77068           Web           12/31/2014   \n",
        "2014-12-31        77068           Web           12/31/2014   \n",
        "2014-12-31        77068           Web           12/31/2014   \n",
        "2014-12-31        77068           Web           12/31/2014   \n",
        "2014-12-31        77068           Web           12/31/2014   \n",
        "\n",
        "                                       Company  \\\n",
        "Date received                                    \n",
        "2014-12-31      Ad Astra Recovery Services Inc   \n",
        "2014-12-31     Unique Management Services, Inc   \n",
        "2014-12-31                    CL Holdings, LLC   \n",
        "2014-12-31      Enhanced Recovery Company, LLC   \n",
        "2014-12-31          Enhanced Acquisitions, LLC   \n",
        "\n",
        "                              Company response Timely response?  \\\n",
        "Date received                                                     \n",
        "2014-12-31             Closed with explanation              Yes   \n",
        "2014-12-31             Closed with explanation              Yes   \n",
        "2014-12-31         Closed with monetary relief              Yes   \n",
        "2014-12-31     Closed with non-monetary relief              Yes   \n",
        "2014-12-31             Closed with explanation              Yes   \n",
        "\n",
        "              Consumer disputed?  \n",
        "Date received                     \n",
        "2014-12-31                   NaN  \n",
        "2014-12-31                   NaN  \n",
        "2014-12-31                   NaN  \n",
        "2014-12-31                   NaN  \n",
        "2014-12-31                   NaN  "
       ]
      }
     ],
     "prompt_number": 5
    },
    {
     "cell_type": "code",
     "collapsed": false,
     "input": [
      "cfpb_data.describe()"
     ],
     "language": "python",
     "metadata": {},
     "outputs": [
      {
       "html": [
        "<div style=\"max-height:1000px;max-width:1500px;overflow:auto;\">\n",
        "<table border=\"1\" class=\"dataframe\">\n",
        "  <thead>\n",
        "    <tr style=\"text-align: right;\">\n",
        "      <th></th>\n",
        "      <th>Complaint ID</th>\n",
        "      <th>ZIP code</th>\n",
        "    </tr>\n",
        "  </thead>\n",
        "  <tbody>\n",
        "    <tr>\n",
        "      <th>count</th>\n",
        "      <td>   11543.000000</td>\n",
        "      <td> 11409.000000</td>\n",
        "    </tr>\n",
        "    <tr>\n",
        "      <th>mean</th>\n",
        "      <td> 1157276.786451</td>\n",
        "      <td> 50259.375756</td>\n",
        "    </tr>\n",
        "    <tr>\n",
        "      <th>std</th>\n",
        "      <td>   11908.384438</td>\n",
        "      <td> 30712.384693</td>\n",
        "    </tr>\n",
        "    <tr>\n",
        "      <th>min</th>\n",
        "      <td> 1136157.000000</td>\n",
        "      <td>    10.000000</td>\n",
        "    </tr>\n",
        "    <tr>\n",
        "      <th>25%</th>\n",
        "      <td> 1146708.500000</td>\n",
        "      <td> 23234.000000</td>\n",
        "    </tr>\n",
        "    <tr>\n",
        "      <th>50%</th>\n",
        "      <td> 1156954.000000</td>\n",
        "      <td> 44203.000000</td>\n",
        "    </tr>\n",
        "    <tr>\n",
        "      <th>75%</th>\n",
        "      <td> 1167656.000000</td>\n",
        "      <td> 78623.000000</td>\n",
        "    </tr>\n",
        "    <tr>\n",
        "      <th>max</th>\n",
        "      <td> 1178091.000000</td>\n",
        "      <td> 99712.000000</td>\n",
        "    </tr>\n",
        "  </tbody>\n",
        "</table>\n",
        "</div>"
       ],
       "metadata": {},
       "output_type": "pyout",
       "prompt_number": 6,
       "text": [
        "         Complaint ID      ZIP code\n",
        "count    11543.000000  11409.000000\n",
        "mean   1157276.786451  50259.375756\n",
        "std      11908.384438  30712.384693\n",
        "min    1136157.000000     10.000000\n",
        "25%    1146708.500000  23234.000000\n",
        "50%    1156954.000000  44203.000000\n",
        "75%    1167656.000000  78623.000000\n",
        "max    1178091.000000  99712.000000"
       ]
      }
     ],
     "prompt_number": 6
    },
    {
     "cell_type": "heading",
     "level": 1,
     "metadata": {},
     "source": [
      "Number of complaints by product"
     ]
    },
    {
     "cell_type": "code",
     "collapsed": false,
     "input": [
      "cfpb_data.groupby(\"Product\").size().nlargest(12)"
     ],
     "language": "python",
     "metadata": {},
     "outputs": [
      {
       "metadata": {},
       "output_type": "pyout",
       "prompt_number": 7,
       "text": [
        "Product\n",
        "Mortgage                   3002\n",
        "Debt collection            2942\n",
        "Credit reporting           2113\n",
        "Bank account or service    1136\n",
        "Credit card                1100\n",
        "Consumer loan               578\n",
        "Student loan                340\n",
        "Payday loan                 141\n",
        "Money transfers             107\n",
        "Prepaid card                 70\n",
        "Other financial service      14\n",
        "dtype: int64"
       ]
      }
     ],
     "prompt_number": 7
    },
    {
     "cell_type": "code",
     "collapsed": false,
     "input": [
      "cfpb_data.groupby(\"Product\").size().nlargest(12).plot(kind=\"bar\", figsize=(12,8))\n",
      "plt.show()"
     ],
     "language": "python",
     "metadata": {},
     "outputs": [
      {
       "metadata": {},
       "output_type": "display_data",
       "png": "[encoded data removed]",
       "text": [
        "<matplotlib.figure.Figure at 0x1099a7828>"
       ]
      }
     ],
     "prompt_number": 8
    },
    {
     "cell_type": "markdown",
     "metadata": {},
     "source": [
      "Morgage, debt collection, and credit reporting are the most complained about topics"
     ]
    },
    {
     "cell_type": "heading",
     "level": 1,
     "metadata": {},
     "source": [
      "Top 10 complianed-about companies by number of complaints"
     ]
    },
    {
     "cell_type": "code",
     "collapsed": false,
     "input": [
      "cfpb_data.groupby(\"Company\").size().nlargest(10)"
     ],
     "language": "python",
     "metadata": {},
     "outputs": [
      {
       "metadata": {},
       "output_type": "pyout",
       "prompt_number": 9,
       "text": [
        "Company\n",
        "Bank of America        766\n",
        "Equifax                737\n",
        "Experian               675\n",
        "TransUnion             604\n",
        "Wells Fargo            598\n",
        "JPMorgan Chase         545\n",
        "Ocwen                  408\n",
        "Citibank               403\n",
        "Nationstar Mortgage    357\n",
        "Capital One            252\n",
        "dtype: int64"
       ]
      }
     ]
    },
    {
     "cell_type": "code",
     "collapsed": false,
     "input": [
      "cfpb_data.groupby(\"Company\").size().nlargest(10).plot(kind=\"bar\", figsize=(12,8))\n",
      "plt.show()"
     ],
     "language": "python",
     "metadata": {},
     "outputs": []
    },
    {
     "cell_type": "heading",
     "level": 1,
     "metadata": {},
     "source": [
      "Number of complaints by company response"
     ]
    },
    {
     "cell_type": "code",
     "collapsed": false,
     "input": [
      "cfpb_data.groupby(\"Company response\").size().nlargest(10)"
     ],
     "language": "python",
     "metadata": {},
     "outputs": []
    },
    {
     "cell_type": "code",
     "collapsed": false,
     "input": [
      "cfpb_data.groupby(\"Company response\").size().nlargest(10).plot(kind=\"bar\", figsize=(12,8))\n",
      "plt.show()"
     ],
     "language": "python",
     "metadata": {},
     "outputs": []
    },
    {
     "cell_type": "markdown",
     "metadata": {},
     "source": [
      "The overwhelming majority of complaints are closed with explanation"
     ]
    },
    {
     "cell_type": "heading",
     "level": 1,
     "metadata": {},
     "source": [
      "Complaints by day of the week"
     ]
    },
    {
     "cell_type": "code",
     "collapsed": false,
     "input": [
      "def mean_complaints_per_weekday(data):\n",
      "    pass"
     ],
     "language": "python",
     "metadata": {},
     "outputs": []
    },
    {
     "cell_type": "code",
     "collapsed": false,
     "input": [
      "dec_number_of_days = [5, 5, 5, 4, 4, 4, 5]"
     ],
     "language": "python",
     "metadata": {},
     "outputs": []
    },
    {
     "cell_type": "code",
     "collapsed": false,
     "input": [
      "mean_complaints = cfpb_data.groupby(cfpb_data.index.weekday).size() / dec_number_of_days"
     ],
     "language": "python",
     "metadata": {},
     "outputs": []
    },
    {
     "cell_type": "code",
     "collapsed": false,
     "input": [
      "mean_complaints.plot(kind=\"bar\", figsize=(12,8))\n",
      "plt.xticks(range(0,7), [\"Mon\", \"Tues\", \"Wed\", \"Thurs\", \"Fri\", \"Sat\", \"Sun\"])\n",
      "plt.show()"
     ],
     "language": "python",
     "metadata": {},
     "outputs": []
    },
    {
     "cell_type": "markdown",
     "metadata": {},
     "source": [
      "People are grumpiest at the beginning of the week"
     ]
    },
    {
     "cell_type": "heading",
     "level": 1,
     "metadata": {},
     "source": [
      "Census and state data"
     ]
    },
    {
     "cell_type": "code",
     "collapsed": false,
     "input": [
      "census = pd.read_csv(\"http://www.census.gov/popest/data/state/totals/2014/tables/NST-EST2014-01.csv\", header=3)"
     ],
     "language": "python",
     "metadata": {},
     "outputs": []
    },
    {
     "cell_type": "code",
     "collapsed": false,
     "input": [
      "census.head(10)"
     ],
     "language": "python",
     "metadata": {},
     "outputs": []
    },
    {
     "cell_type": "code",
     "collapsed": false,
     "input": [
      "states = pd.read_csv(\"state_table.csv\")"
     ],
     "language": "python",
     "metadata": {},
     "outputs": []
    },
    {
     "cell_type": "code",
     "collapsed": false,
     "input": [
      "states.head()"
     ],
     "language": "python",
     "metadata": {},
     "outputs": []
    },
    {
     "cell_type": "code",
     "collapsed": false,
     "input": [
      "census[\"Unnamed: 0\"][5:13] = states[\"abbreviation\"][0:8]"
     ],
     "language": "python",
     "metadata": {},
     "outputs": []
    },
    {
     "cell_type": "code",
     "collapsed": false,
     "input": [
      "census[\"Unnamed: 0\"][14:56] = states[\"abbreviation\"][8:50]"
     ],
     "language": "python",
     "metadata": {},
     "outputs": []
    },
    {
     "cell_type": "code",
     "collapsed": false,
     "input": [
      "# reformated census data with state abbreviations so it matches cfpb data\n",
      "\n",
      "census.head(10)"
     ],
     "language": "python",
     "metadata": {},
     "outputs": []
    },
    {
     "cell_type": "code",
     "collapsed": false,
     "input": [
      "census[\"2013\"][5]"
     ],
     "language": "python",
     "metadata": {},
     "outputs": []
    },
    {
     "cell_type": "code",
     "collapsed": false,
     "input": [
      "census.index = census.pop(\"Unnamed: 0\")"
     ],
     "language": "python",
     "metadata": {},
     "outputs": []
    },
    {
     "cell_type": "code",
     "collapsed": false,
     "input": [
      "census.index.names = [\"State\"]"
     ],
     "language": "python",
     "metadata": {},
     "outputs": []
    },
    {
     "cell_type": "code",
     "collapsed": false,
     "input": [
      "census.head()"
     ],
     "language": "python",
     "metadata": {},
     "outputs": []
    },
    {
     "cell_type": "code",
     "collapsed": false,
     "input": [
      "complaints_by_state = pd.DataFrame(cfpb_data.groupby(\"State\").size(), columns=[\"complaints\"])"
     ],
     "language": "python",
     "metadata": {},
     "outputs": []
    },
    {
     "cell_type": "code",
     "collapsed": false,
     "input": [
      "complaints_by_state"
     ],
     "language": "python",
     "metadata": {},
     "outputs": []
    },
    {
     "cell_type": "code",
     "collapsed": false,
     "input": [
      "census[\"2014\"][\"AL\"]"
     ],
     "language": "python",
     "metadata": {},
     "outputs": []
    },
    {
     "cell_type": "code",
     "collapsed": false,
     "input": [
      "len(complaints_by_state)"
     ],
     "language": "python",
     "metadata": {},
     "outputs": []
    },
    {
     "cell_type": "code",
     "collapsed": false,
     "input": [
      "x = int(census.ix[\"AL\"][\"2014\"].replace(',', ''))"
     ],
     "language": "python",
     "metadata": {},
     "outputs": []
    },
    {
     "cell_type": "code",
     "collapsed": false,
     "input": [
      "x"
     ],
     "language": "python",
     "metadata": {},
     "outputs": []
    },
    {
     "cell_type": "code",
     "collapsed": false,
     "input": [
      "int(census.loc[\"AL\"][\"2014\"].replace(',', ''))"
     ],
     "language": "python",
     "metadata": {},
     "outputs": []
    },
    {
     "cell_type": "code",
     "collapsed": false,
     "input": [
      "complaints_by_state.head()"
     ],
     "language": "python",
     "metadata": {},
     "outputs": []
    },
    {
     "cell_type": "code",
     "collapsed": false,
     "input": [
      "census_complaints = census.join(complaints_by_state)"
     ],
     "language": "python",
     "metadata": {},
     "outputs": []
    },
    {
     "cell_type": "code",
     "collapsed": false,
     "input": [
      "census_complaints[\"2014\"]"
     ],
     "language": "python",
     "metadata": {},
     "outputs": []
    },
    {
     "cell_type": "code",
     "collapsed": false,
     "input": [
      "def change_string_to_int(string):\n",
      "    try:\n",
      "        print(\"working\" + string)\n",
      "        string = int(string.replace(\",\",\"\"))\n",
      "    except AttributeError:\n",
      "        pass\n",
      "    return string"
     ],
     "language": "python",
     "metadata": {},
     "outputs": []
    },
    {
     "cell_type": "code",
     "collapsed": false,
     "input": [
      "census_complaints[\"2014 population\"] = change_string_to_int(census_complaints[\"2013\"])"
     ],
     "language": "python",
     "metadata": {},
     "outputs": []
    },
    {
     "cell_type": "code",
     "collapsed": false,
     "input": [
      "census_complaints.columns"
     ],
     "language": "python",
     "metadata": {},
     "outputs": []
    },
    {
     "cell_type": "code",
     "collapsed": false,
     "input": [
      "census_complaints.head()"
     ],
     "language": "python",
     "metadata": {},
     "outputs": []
    },
    {
     "cell_type": "code",
     "collapsed": false,
     "input": [
      "census_complaints.index[55]"
     ],
     "language": "python",
     "metadata": {},
     "outputs": []
    },
    {
     "cell_type": "code",
     "collapsed": false,
     "input": [
      "#census_complaints = census_complaints.index[[0,1,2,3,4,56,57,58,59,60,61,62]]"
     ],
     "language": "python",
     "metadata": {},
     "outputs": []
    },
    {
     "cell_type": "code",
     "collapsed": false,
     "input": [
      "#census_complaints"
     ],
     "language": "python",
     "metadata": {},
     "outputs": []
    },
    {
     "cell_type": "code",
     "collapsed": false,
     "input": [],
     "language": "python",
     "metadata": {},
     "outputs": []
    }
   ],
   "metadata": {}
  }
 ]
}